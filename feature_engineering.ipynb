{
 "cells": [
  {
   "cell_type": "markdown",
   "id": "3c3fbb6a",
   "metadata": {},
   "source": [
    "# Feature engineering"
   ]
  },
  {
   "cell_type": "code",
   "execution_count": null,
   "id": "e670544c",
   "metadata": {
    "vscode": {
     "languageId": "plaintext"
    }
   },
   "outputs": [],
   "source": []
  },
  {
   "cell_type": "code",
   "execution_count": null,
   "id": "5fd5c094",
   "metadata": {
    "vscode": {
     "languageId": "plaintext"
    }
   },
   "outputs": [],
   "source": [
    "cat_cols = df.select_dtypes(include=['object', 'category']).columns\n",
    "# ENCODING CATEGORICAL VARIABLES\n",
    "# Ordinal Encoding for 'Residential'\n",
    "residential_order = {\n",
    "    'Detached House': 1,\n",
    "    'Duplex': 2,\n",
    "    'Triplex': 3,\n",
    "    'Fourplex': 4\n",
    "}\n",
    "df['Residential'] = df['Residential'].map(residential_order)\n",
    "\n",
    "# One-Hot Encoding for nominal categorical features\n",
    "one_hot_cols = ['Locality', 'Property', 'Face']\n",
    "df = pd.get_dummies(df, columns=one_hot_cols, drop_first=True)\n",
    "dummy_cols = df.filter(regex='^(Locality|Property|Face)_').columns\n",
    "df[dummy_cols] = df[dummy_cols].astype(int)\n",
    "df.head()"
   ]
  }
 ],
 "metadata": {
  "language_info": {
   "name": "python"
  }
 },
 "nbformat": 4,
 "nbformat_minor": 5
}
